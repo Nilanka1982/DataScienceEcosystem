{
 "cells": [
  {
   "cell_type": "markdown",
   "id": "e3ccadc4-086a-4a6b-9e65-67440866a8f8",
   "metadata": {
    "tags": []
   },
   "source": [
    "# Data Science Tools and Ecosystem"
   ]
  },
  {
   "cell_type": "markdown",
   "id": "44d75c79-7512-4dee-9393-2e883581269f",
   "metadata": {},
   "source": [
    "In this notebook, Data Science Tools and Ecosystem are summarized."
   ]
  },
  {
   "cell_type": "markdown",
   "id": "07e79585-6ddb-4abb-be0a-0a020d9d3662",
   "metadata": {
    "tags": []
   },
   "source": [
    "Some of the popular languages that Data Scientists use are:\n",
    "```\n",
    "1.Phython\n",
    "2.SQL\n",
    "3.Scala\n",
    "4.R\n",
    "5.C\n",
    "```\n",
    "\n"
   ]
  },
  {
   "cell_type": "markdown",
   "id": "10adf3e1-08e7-457e-ae26-fe3374206fbb",
   "metadata": {},
   "source": [
    "Some of the commonly used libraries used by Data Scientists include:\n",
    "```\n",
    "01. Numpy\n",
    "02. Pandas\n",
    "03. Scipy\n",
    "04. PyTorch\n",
    "05. Matplotlib\n"
   ]
  },
  {
   "cell_type": "markdown",
   "id": "7c5c30e0-a321-4407-b608-7106ea81b75d",
   "metadata": {},
   "source": [
    "|Data Scinece Tools|\n",
    "|---------|\n",
    "|Phython|\n",
    "|Tableau|\n",
    "|SAS|\n",
    "|Scikit-learn|\n",
    "|TensorFlow|\n",
    "\n",
    "\n"
   ]
  },
  {
   "cell_type": "markdown",
   "id": "2b2a41c5-e979-4d92-a7a9-435912bb12fb",
   "metadata": {},
   "source": [
    "### Below are a few examples of evaluating arithmetic expressions in Python.\n"
   ]
  },
  {
   "cell_type": "code",
   "execution_count": null,
   "id": "160ea5f3-3459-4749-a7b3-b0031e43b285",
   "metadata": {
    "tags": []
   },
   "outputs": [],
   "source": [
    "(3*4)+5\n",
    "# This a simple arithmetic expression to mutiply then add integers."
   ]
  },
  {
   "cell_type": "code",
   "execution_count": null,
   "id": "f1a1abac-33b3-4ce6-9908-c67e89a42ed7",
   "metadata": {
    "tags": []
   },
   "outputs": [],
   "source": [
    "200/60\n",
    "# This will convert 200 minutes to hours by diving by 60."
   ]
  },
  {
   "cell_type": "markdown",
   "id": "ef4e4b83-e92f-42ca-9cb3-eac70d794775",
   "metadata": {
    "tags": []
   },
   "source": [
    "# Objectives #\n",
    "* How to change style of Header.\n",
    "* Simple Arithmetic on Jupyter note book.\n",
    "* Creating Table with rows and header\n",
    "* Creating list on Jupyter note book."
   ]
  },
  {
   "cell_type": "markdown",
   "id": "30594809-7549-4775-b759-518f53918aff",
   "metadata": {},
   "source": [
    "## Nilanka Sandamali"
   ]
  },
  {
   "cell_type": "code",
   "execution_count": null,
   "id": "dfa6840f-617b-4c29-b836-9f6b126883ba",
   "metadata": {},
   "outputs": [],
   "source": []
  }
 ],
 "metadata": {
  "kernelspec": {
   "display_name": "Python",
   "language": "python",
   "name": "conda-env-python-py"
  },
  "language_info": {
   "codemirror_mode": {
    "name": "ipython",
    "version": 3
   },
   "file_extension": ".py",
   "mimetype": "text/x-python",
   "name": "python",
   "nbconvert_exporter": "python",
   "pygments_lexer": "ipython3",
   "version": "3.7.12"
  }
 },
 "nbformat": 4,
 "nbformat_minor": 5
}
